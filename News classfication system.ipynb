{
 "cells": [
  {
   "cell_type": "code",
   "execution_count": 1,
   "id": "8a1c0d15",
   "metadata": {},
   "outputs": [
    {
     "name": "stdout",
     "output_type": "stream",
     "text": [
      "E:\\Anaconda\\python.exe\n"
     ]
    }
   ],
   "source": [
    "import sys\n",
    "print(sys.executable)\n",
    "import wordcloud\n",
    "#!<E:\\Anaconda\\python.exe>/python -m pip install wordcloud\n",
    "#!pip install sklearn"
   ]
  },
  {
   "cell_type": "code",
   "execution_count": 2,
   "id": "3eaa800b",
   "metadata": {},
   "outputs": [],
   "source": [
    "#!pip install seaborn\n",
    "#!pip install matplotlib"
   ]
  },
  {
   "cell_type": "code",
   "execution_count": 3,
   "id": "6ab3b74d",
   "metadata": {},
   "outputs": [
    {
     "name": "stderr",
     "output_type": "stream",
     "text": [
      "[nltk_data] Downloading package stopwords to\n",
      "[nltk_data]     C:\\Users\\DELL\\AppData\\Roaming\\nltk_data...\n",
      "[nltk_data]   Package stopwords is already up-to-date!\n",
      "[nltk_data] Downloading package wordnet to\n",
      "[nltk_data]     C:\\Users\\DELL\\AppData\\Roaming\\nltk_data...\n",
      "[nltk_data]   Package wordnet is already up-to-date!\n",
      "[nltk_data] Downloading package punkt to\n",
      "[nltk_data]     C:\\Users\\DELL\\AppData\\Roaming\\nltk_data...\n",
      "[nltk_data]   Package punkt is already up-to-date!\n"
     ]
    }
   ],
   "source": [
    "import numpy as np\n",
    "import matplotlib.pyplot as plt\n",
    "import seaborn as sns\n",
    "import re\n",
    "import nltk\n",
    "from nltk.corpus import stopwords\n",
    "nltk.download('stopwords')\n",
    "from nltk.stem import PorterStemmer\n",
    "from nltk.stem import WordNetLemmatizer\n",
    "nltk.download('wordnet')\n",
    "from nltk.tokenize import word_tokenize\n",
    "from nltk.tokenize import sent_tokenize\n",
    "nltk.download('punkt')\n",
    "from wordcloud import WordCloud\n",
    "from sklearn.feature_extraction.text import CountVectorizer\n",
    "from sklearn.feature_extraction.text import TfidfVectorizer\n",
    "from sklearn.model_selection import train_test_split\n",
    "from sklearn.metrics import accuracy_score\n",
    "from sklearn.metrics import confusion_matrix\n",
    "from sklearn.metrics import classification_report\n",
    "from sklearn.metrics import make_scorer, roc_curve, roc_auc_score\n",
    "from sklearn.metrics import precision_recall_fscore_support as score\n",
    "from sklearn.metrics.pairwise import cosine_similarity\n",
    "from sklearn.multiclass import OneVsRestClassifier\n",
    "from sklearn.linear_model import LogisticRegression\n",
    "from sklearn.svm import SVC, LinearSVC\n",
    "from sklearn.tree import DecisionTreeClassifier\n",
    "from sklearn.ensemble import RandomForestClassifier\n",
    "from sklearn.neighbors import KNeighborsClassifier\n",
    "from sklearn.naive_bayes import GaussianNB,MultinomialNB,BernoulliNB"
   ]
  },
  {
   "cell_type": "code",
   "execution_count": 71,
   "id": "d948d2e9",
   "metadata": {},
   "outputs": [
    {
     "data": {
      "text/plain": [
       "'bbc poll indicates economic gloom citizens in a majority of nations surveyed in a bbc world service poll believe the world economy is worsening.  most respondents also said their national economy was getting worse. but when asked about their own family s financial outlook  a majority in 14 countries said they were positive about the future. almost 23 000 people in 22 countries were questioned for the poll  which was mostly conducted before the asian tsunami disaster. the poll found that a majority or plurality of people in 13 countries believed the economy was going downhill  compared with respondents in nine countries who believed it was improving. those surveyed in three countries were split. in percentage terms  an average of 44% of respondents in each country said the world economy was getting worse  compared to 34% who said it was improving. similarly  48% were pessimistic about their national economy  while 41% were optimistic. and 47% saw their family s economic conditions improving  as against 36% who said they were getting worse.  the poll of 22 953 people was conducted by the international polling firm globescan  together with the program on international policy attitudes (pipa) at the university of maryland.  while the world economy has picked up from difficult times just a few years ago  people seem to not have fully absorbed this development  though they are personally experiencing its effects   said pipa director steven kull.  people around the world are saying:  i m ok  but the world isn t .  there may be a perception that war  terrorism and religious and political divisions are making the world a worse place  even though that has not so far been reflected in global economic performance  says the bbc s elizabeth blunt.  the countries where people were most optimistic  both for the world and for their own families  were two fast-growing developing economies  china and india  followed by indonesia. china has seen two decades of blistering economic growth  which has led to wealth creation on a huge scale  says the bbc s louisa lim in beijing. but the results also may reflect the untrammelled confidence of people who are subject to endless government propaganda about their country s rosy economic future  our correspondent says. south korea was the most pessimistic  while respondents in italy and mexico were also quite gloomy. the bbc s david willey in rome says one reason for that result is the changeover from the lira to the euro in 2001  which is widely viewed as the biggest reason why their wages and salaries are worth less than they used to be. the philippines was among the most upbeat countries on prospects for respondents  families  but one of the most pessimistic about the world economy. pipa conducted the poll from 15 november 2004 to 3 january 2005 across 22 countries in face-to-face or telephone interviews. the interviews took place between 15 november 2004 and 5 january 2005. the margin of error is between 2.5 and 4 points  depending on the country. in eight of the countries  the sample was limited to major metropolitan areas.'"
      ]
     },
     "execution_count": 71,
     "metadata": {},
     "output_type": "execute_result"
    }
   ],
   "source": [
    "import pandas as pd\n",
    "dataset = pd.read_csv(\"BBC News Train.csv\")\n",
    "dataset.Text[2]"
   ]
  },
  {
   "cell_type": "code",
   "execution_count": 5,
   "id": "993b7510",
   "metadata": {},
   "outputs": [
    {
     "data": {
      "text/plain": [
       "(1490, 3)"
      ]
     },
     "execution_count": 5,
     "metadata": {},
     "output_type": "execute_result"
    }
   ],
   "source": [
    "dataset.shape"
   ]
  },
  {
   "cell_type": "code",
   "execution_count": 6,
   "id": "ac60e38a",
   "metadata": {},
   "outputs": [
    {
     "name": "stdout",
     "output_type": "stream",
     "text": [
      "<class 'pandas.core.frame.DataFrame'>\n",
      "RangeIndex: 1490 entries, 0 to 1489\n",
      "Data columns (total 3 columns):\n",
      " #   Column     Non-Null Count  Dtype \n",
      "---  ------     --------------  ----- \n",
      " 0   ArticleId  1490 non-null   int64 \n",
      " 1   Text       1490 non-null   object\n",
      " 2   Category   1490 non-null   object\n",
      "dtypes: int64(1), object(2)\n",
      "memory usage: 35.0+ KB\n"
     ]
    }
   ],
   "source": [
    "dataset.info()"
   ]
  },
  {
   "cell_type": "code",
   "execution_count": 7,
   "id": "54b60ae4",
   "metadata": {},
   "outputs": [
    {
     "data": {
      "text/plain": [
       "sport            346\n",
       "business         336\n",
       "politics         274\n",
       "entertainment    273\n",
       "tech             261\n",
       "Name: Category, dtype: int64"
      ]
     },
     "execution_count": 7,
     "metadata": {},
     "output_type": "execute_result"
    }
   ],
   "source": [
    "dataset['Category'].value_counts()"
   ]
  },
  {
   "cell_type": "code",
   "execution_count": 8,
   "id": "19867f75",
   "metadata": {},
   "outputs": [
    {
     "name": "stdout",
     "output_type": "stream",
     "text": [
      "['business' 'tech' 'politics' 'sport' 'entertainment']\n"
     ]
    }
   ],
   "source": [
    "# Associate Category names with numerical index and save it in new column CategoryId\n",
    "target_category = dataset['Category'].unique()\n",
    "print(target_category)"
   ]
  },
  {
   "cell_type": "code",
   "execution_count": 9,
   "id": "b8a08b69",
   "metadata": {},
   "outputs": [
    {
     "data": {
      "text/html": [
       "<div>\n",
       "<style scoped>\n",
       "    .dataframe tbody tr th:only-of-type {\n",
       "        vertical-align: middle;\n",
       "    }\n",
       "\n",
       "    .dataframe tbody tr th {\n",
       "        vertical-align: top;\n",
       "    }\n",
       "\n",
       "    .dataframe thead th {\n",
       "        text-align: right;\n",
       "    }\n",
       "</style>\n",
       "<table border=\"1\" class=\"dataframe\">\n",
       "  <thead>\n",
       "    <tr style=\"text-align: right;\">\n",
       "      <th></th>\n",
       "      <th>ArticleId</th>\n",
       "      <th>Text</th>\n",
       "      <th>Category</th>\n",
       "      <th>CategoryId</th>\n",
       "    </tr>\n",
       "  </thead>\n",
       "  <tbody>\n",
       "    <tr>\n",
       "      <th>0</th>\n",
       "      <td>1833</td>\n",
       "      <td>worldcom ex-boss launches defence lawyers defe...</td>\n",
       "      <td>business</td>\n",
       "      <td>0</td>\n",
       "    </tr>\n",
       "    <tr>\n",
       "      <th>1</th>\n",
       "      <td>154</td>\n",
       "      <td>german business confidence slides german busin...</td>\n",
       "      <td>business</td>\n",
       "      <td>0</td>\n",
       "    </tr>\n",
       "    <tr>\n",
       "      <th>2</th>\n",
       "      <td>1101</td>\n",
       "      <td>bbc poll indicates economic gloom citizens in ...</td>\n",
       "      <td>business</td>\n",
       "      <td>0</td>\n",
       "    </tr>\n",
       "    <tr>\n",
       "      <th>3</th>\n",
       "      <td>1976</td>\n",
       "      <td>lifestyle  governs mobile choice  faster  bett...</td>\n",
       "      <td>tech</td>\n",
       "      <td>1</td>\n",
       "    </tr>\n",
       "    <tr>\n",
       "      <th>4</th>\n",
       "      <td>917</td>\n",
       "      <td>enron bosses in $168m payout eighteen former e...</td>\n",
       "      <td>business</td>\n",
       "      <td>0</td>\n",
       "    </tr>\n",
       "  </tbody>\n",
       "</table>\n",
       "</div>"
      ],
      "text/plain": [
       "   ArticleId                                               Text  Category  \\\n",
       "0       1833  worldcom ex-boss launches defence lawyers defe...  business   \n",
       "1        154  german business confidence slides german busin...  business   \n",
       "2       1101  bbc poll indicates economic gloom citizens in ...  business   \n",
       "3       1976  lifestyle  governs mobile choice  faster  bett...      tech   \n",
       "4        917  enron bosses in $168m payout eighteen former e...  business   \n",
       "\n",
       "   CategoryId  \n",
       "0           0  \n",
       "1           0  \n",
       "2           0  \n",
       "3           1  \n",
       "4           0  "
      ]
     },
     "execution_count": 9,
     "metadata": {},
     "output_type": "execute_result"
    }
   ],
   "source": [
    "dataset['CategoryId'] = dataset['Category'].factorize()[0]\n",
    "dataset.head()"
   ]
  },
  {
   "cell_type": "code",
   "execution_count": 10,
   "id": "096947ed",
   "metadata": {},
   "outputs": [
    {
     "data": {
      "text/html": [
       "<div>\n",
       "<style scoped>\n",
       "    .dataframe tbody tr th:only-of-type {\n",
       "        vertical-align: middle;\n",
       "    }\n",
       "\n",
       "    .dataframe tbody tr th {\n",
       "        vertical-align: top;\n",
       "    }\n",
       "\n",
       "    .dataframe thead th {\n",
       "        text-align: right;\n",
       "    }\n",
       "</style>\n",
       "<table border=\"1\" class=\"dataframe\">\n",
       "  <thead>\n",
       "    <tr style=\"text-align: right;\">\n",
       "      <th></th>\n",
       "      <th>Category</th>\n",
       "      <th>CategoryId</th>\n",
       "    </tr>\n",
       "  </thead>\n",
       "  <tbody>\n",
       "    <tr>\n",
       "      <th>0</th>\n",
       "      <td>business</td>\n",
       "      <td>0</td>\n",
       "    </tr>\n",
       "    <tr>\n",
       "      <th>3</th>\n",
       "      <td>tech</td>\n",
       "      <td>1</td>\n",
       "    </tr>\n",
       "    <tr>\n",
       "      <th>5</th>\n",
       "      <td>politics</td>\n",
       "      <td>2</td>\n",
       "    </tr>\n",
       "    <tr>\n",
       "      <th>6</th>\n",
       "      <td>sport</td>\n",
       "      <td>3</td>\n",
       "    </tr>\n",
       "    <tr>\n",
       "      <th>7</th>\n",
       "      <td>entertainment</td>\n",
       "      <td>4</td>\n",
       "    </tr>\n",
       "  </tbody>\n",
       "</table>\n",
       "</div>"
      ],
      "text/plain": [
       "        Category  CategoryId\n",
       "0       business           0\n",
       "3           tech           1\n",
       "5       politics           2\n",
       "6          sport           3\n",
       "7  entertainment           4"
      ]
     },
     "execution_count": 10,
     "metadata": {},
     "output_type": "execute_result"
    }
   ],
   "source": [
    "# Create a new pandas dataframe \"category\", which only has unique Categories, also sorting this list in order of CategoryId values\n",
    "category = dataset[['Category', 'CategoryId']].drop_duplicates().sort_values('CategoryId')\n",
    "category"
   ]
  },
  {
   "cell_type": "code",
   "execution_count": 11,
   "id": "8614cb56",
   "metadata": {},
   "outputs": [
    {
     "data": {
      "image/png": "[encoded data removed]",
      "text/plain": [
       "<Figure size 432x288 with 1 Axes>"
      ]
     },
     "metadata": {
      "needs_background": "light"
     },
     "output_type": "display_data"
    }
   ],
   "source": [
    "dataset.groupby('Category').CategoryId.value_counts().plot(kind = \"bar\", color = [\"pink\", \"orange\", \"red\", \"yellow\", \"blue\"])\n",
    "plt.xlabel(\"Category of data\")\n",
    "plt.title(\"Visulaize numbers of Category of data\")\n",
    "plt.show()"
   ]
  },
  {
   "cell_type": "code",
   "execution_count": 12,
   "id": "b2e5c2dc",
   "metadata": {},
   "outputs": [
    {
     "data": {
      "image/png": "[encoded data removed]",
      "text/plain": [
       "<Figure size 360x360 with 1 Axes>"
      ]
     },
     "metadata": {},
     "output_type": "display_data"
    }
   ],
   "source": [
    "fig = plt.figure(figsize = (5,5))\n",
    "colors = [\"skyblue\"]\n",
    "business = dataset[dataset['CategoryId'] == 0 ]\n",
    "tech = dataset[dataset['CategoryId'] == 1 ]\n",
    "politics = dataset[dataset['CategoryId'] == 2]\n",
    "sport = dataset[dataset['CategoryId'] == 3]\n",
    "entertainment = dataset[dataset['CategoryId'] == 4]\n",
    "count = [business['CategoryId'].count(), tech['CategoryId'].count(), politics['CategoryId'].count(), sport['CategoryId'].count(), entertainment['CategoryId'].count()]\n",
    "pie = plt.pie(count, labels = ['business', 'tech', 'politics', 'sport', 'entertainment'],\n",
    "              autopct = \"%1.1f%%\",\n",
    "              shadow = True,\n",
    "              colors = colors,\n",
    "              startangle = 45,\n",
    "              explode = (0.05, 0.05, 0.05, 0.05,0.05))"
   ]
  },
  {
   "cell_type": "code",
   "execution_count": 13,
   "id": "70b8b894",
   "metadata": {},
   "outputs": [],
   "source": [
    "from wordcloud import WordCloud\n",
    "\n",
    "stop = set(stopwords.words('english'))\n",
    "\n",
    "business = dataset[dataset['CategoryId'] == 0]\n",
    "\n",
    "business = business['Text']\n",
    "\n",
    "tech = dataset[dataset['CategoryId'] == 1]\n",
    "\n",
    "tech = tech['Text']\n",
    "\n",
    "politics = dataset[dataset['CategoryId'] == 2]\n",
    "\n",
    "politics = politics['Text']\n",
    "\n",
    "sport = dataset[dataset['CategoryId'] == 3]\n",
    "\n",
    "sport = sport['Text']\n",
    "\n",
    "entertainment = dataset[dataset['CategoryId'] == 4]\n",
    "\n",
    "entertainment = entertainment['Text']\n",
    "\n"
   ]
  },
  {
   "cell_type": "code",
   "execution_count": 14,
   "id": "555dbaa9",
   "metadata": {},
   "outputs": [
    {
     "data": {
      "text/plain": [
       "0    worldcom ex-boss launches defence lawyers defe...\n",
       "1    german business confidence slides german busin...\n",
       "2    bbc poll indicates economic gloom citizens in ...\n",
       "3    lifestyle  governs mobile choice  faster  bett...\n",
       "4    enron bosses in $168m payout eighteen former e...\n",
       "5    howard  truanted to play snooker  conservative...\n",
       "6    wales silent on grand slam talk rhys williams ...\n",
       "7    french honour for director parker british film...\n",
       "8    car giant hit by mercedes slump a slump in pro...\n",
       "9    fockers fuel festive film chart comedy meet th...\n",
       "Name: Text, dtype: object"
      ]
     },
     "execution_count": 14,
     "metadata": {},
     "output_type": "execute_result"
    }
   ],
   "source": [
    "text = dataset[\"Text\"]\n",
    "text.head(10)"
   ]
  },
  {
   "cell_type": "code",
   "execution_count": 15,
   "id": "c45a371b",
   "metadata": {},
   "outputs": [
    {
     "data": {
      "text/plain": [
       "0         business\n",
       "1         business\n",
       "2         business\n",
       "3             tech\n",
       "4         business\n",
       "5         politics\n",
       "6            sport\n",
       "7    entertainment\n",
       "8         business\n",
       "9    entertainment\n",
       "Name: Category, dtype: object"
      ]
     },
     "execution_count": 15,
     "metadata": {},
     "output_type": "execute_result"
    }
   ],
   "source": [
    "category = dataset['Category']\n",
    "category.head(10)"
   ]
  },
  {
   "cell_type": "code",
   "execution_count": 16,
   "id": "ee732407",
   "metadata": {},
   "outputs": [
    {
     "data": {
      "text/plain": [
       "0       worldcom ex-boss launches defence lawyers defe...\n",
       "1       german business confidence slides german busin...\n",
       "2       bbc poll indicates economic gloom citizens in ...\n",
       "3       lifestyle  governs mobile choice  faster  bett...\n",
       "4       enron bosses in $168m payout eighteen former e...\n",
       "                              ...                        \n",
       "1485    double eviction from big brother model caprice...\n",
       "1486    dj double act revamp chart show dj duo jk and ...\n",
       "1487    weak dollar hits reuters revenues at media gro...\n",
       "1488    apple ipod family expands market apple has exp...\n",
       "1489    santy worm makes unwelcome visit thousands of ...\n",
       "Name: Text, Length: 1490, dtype: object"
      ]
     },
     "execution_count": 16,
     "metadata": {},
     "output_type": "execute_result"
    }
   ],
   "source": [
    "def remove_tags(text):\n",
    "  remove = re.compile(r'')\n",
    "  return re.sub(remove, '', text)\n",
    "dataset['Text'] = dataset['Text'].apply(remove_tags)\n",
    "dataset['Text']"
   ]
  },
  {
   "cell_type": "code",
   "execution_count": 17,
   "id": "22d07830",
   "metadata": {},
   "outputs": [],
   "source": [
    "#def special_char(text):\n",
    " # reviews = ''\n",
    " #  if x.isalnum():\n",
    "  #    reviews = reviews + x\n",
    "   # else:\n",
    "    #  reviews = reviews + ' '\n",
    "    #return reviews\n",
    "\n",
    "#dataset['Text'] = dataset['Text'].apply(special_char)\n",
    "#dataset['Text']"
   ]
  },
  {
   "cell_type": "code",
   "execution_count": 18,
   "id": "21cb732c",
   "metadata": {},
   "outputs": [],
   "source": [
    "def convert_lower(text):\n",
    "     return text.lower()\n",
    "dataset['Text'] = dataset['Text'].apply(convert_lower)"
   ]
  },
  {
   "cell_type": "code",
   "execution_count": 19,
   "id": "97142167",
   "metadata": {},
   "outputs": [
    {
     "data": {
      "text/html": [
       "<div>\n",
       "<style scoped>\n",
       "    .dataframe tbody tr th:only-of-type {\n",
       "        vertical-align: middle;\n",
       "    }\n",
       "\n",
       "    .dataframe tbody tr th {\n",
       "        vertical-align: top;\n",
       "    }\n",
       "\n",
       "    .dataframe thead th {\n",
       "        text-align: right;\n",
       "    }\n",
       "</style>\n",
       "<table border=\"1\" class=\"dataframe\">\n",
       "  <thead>\n",
       "    <tr style=\"text-align: right;\">\n",
       "      <th></th>\n",
       "      <th>ArticleId</th>\n",
       "      <th>Text</th>\n",
       "      <th>Category</th>\n",
       "      <th>CategoryId</th>\n",
       "    </tr>\n",
       "  </thead>\n",
       "  <tbody>\n",
       "    <tr>\n",
       "      <th>0</th>\n",
       "      <td>1833</td>\n",
       "      <td>[worldcom, ex-boss, launches, defence, lawyers...</td>\n",
       "      <td>business</td>\n",
       "      <td>0</td>\n",
       "    </tr>\n",
       "    <tr>\n",
       "      <th>1</th>\n",
       "      <td>154</td>\n",
       "      <td>[german, business, confidence, slides, german,...</td>\n",
       "      <td>business</td>\n",
       "      <td>0</td>\n",
       "    </tr>\n",
       "    <tr>\n",
       "      <th>2</th>\n",
       "      <td>1101</td>\n",
       "      <td>[bbc, poll, indicates, economic, gloom, citize...</td>\n",
       "      <td>business</td>\n",
       "      <td>0</td>\n",
       "    </tr>\n",
       "    <tr>\n",
       "      <th>3</th>\n",
       "      <td>1976</td>\n",
       "      <td>[lifestyle, governs, mobile, choice, faster, b...</td>\n",
       "      <td>tech</td>\n",
       "      <td>1</td>\n",
       "    </tr>\n",
       "    <tr>\n",
       "      <th>4</th>\n",
       "      <td>917</td>\n",
       "      <td>[enron, bosses, $, 168m, payout, eighteen, for...</td>\n",
       "      <td>business</td>\n",
       "      <td>0</td>\n",
       "    </tr>\n",
       "    <tr>\n",
       "      <th>...</th>\n",
       "      <td>...</td>\n",
       "      <td>...</td>\n",
       "      <td>...</td>\n",
       "      <td>...</td>\n",
       "    </tr>\n",
       "    <tr>\n",
       "      <th>1485</th>\n",
       "      <td>857</td>\n",
       "      <td>[double, eviction, big, brother, model, capric...</td>\n",
       "      <td>entertainment</td>\n",
       "      <td>4</td>\n",
       "    </tr>\n",
       "    <tr>\n",
       "      <th>1486</th>\n",
       "      <td>325</td>\n",
       "      <td>[dj, double, act, revamp, chart, show, dj, duo...</td>\n",
       "      <td>entertainment</td>\n",
       "      <td>4</td>\n",
       "    </tr>\n",
       "    <tr>\n",
       "      <th>1487</th>\n",
       "      <td>1590</td>\n",
       "      <td>[weak, dollar, hits, reuters, revenues, media,...</td>\n",
       "      <td>business</td>\n",
       "      <td>0</td>\n",
       "    </tr>\n",
       "    <tr>\n",
       "      <th>1488</th>\n",
       "      <td>1587</td>\n",
       "      <td>[apple, ipod, family, expands, market, apple, ...</td>\n",
       "      <td>tech</td>\n",
       "      <td>1</td>\n",
       "    </tr>\n",
       "    <tr>\n",
       "      <th>1489</th>\n",
       "      <td>538</td>\n",
       "      <td>[santy, worm, makes, unwelcome, visit, thousan...</td>\n",
       "      <td>tech</td>\n",
       "      <td>1</td>\n",
       "    </tr>\n",
       "  </tbody>\n",
       "</table>\n",
       "<p>1490 rows × 4 columns</p>\n",
       "</div>"
      ],
      "text/plain": [
       "      ArticleId                                               Text  \\\n",
       "0          1833  [worldcom, ex-boss, launches, defence, lawyers...   \n",
       "1           154  [german, business, confidence, slides, german,...   \n",
       "2          1101  [bbc, poll, indicates, economic, gloom, citize...   \n",
       "3          1976  [lifestyle, governs, mobile, choice, faster, b...   \n",
       "4           917  [enron, bosses, $, 168m, payout, eighteen, for...   \n",
       "...         ...                                                ...   \n",
       "1485        857  [double, eviction, big, brother, model, capric...   \n",
       "1486        325  [dj, double, act, revamp, chart, show, dj, duo...   \n",
       "1487       1590  [weak, dollar, hits, reuters, revenues, media,...   \n",
       "1488       1587  [apple, ipod, family, expands, market, apple, ...   \n",
       "1489        538  [santy, worm, makes, unwelcome, visit, thousan...   \n",
       "\n",
       "           Category  CategoryId  \n",
       "0          business           0  \n",
       "1          business           0  \n",
       "2          business           0  \n",
       "3              tech           1  \n",
       "4          business           0  \n",
       "...             ...         ...  \n",
       "1485  entertainment           4  \n",
       "1486  entertainment           4  \n",
       "1487       business           0  \n",
       "1488           tech           1  \n",
       "1489           tech           1  \n",
       "\n",
       "[1490 rows x 4 columns]"
      ]
     },
     "execution_count": 19,
     "metadata": {},
     "output_type": "execute_result"
    }
   ],
   "source": [
    "def remove_stopwords(text):\n",
    "  stop_words = set(stopwords.words('english'))\n",
    "  words = word_tokenize(text)\n",
    "  return [x for x in words if x not in stop_words]\n",
    "dataset['Text'] = dataset['Text'].apply(remove_stopwords)\n",
    "dataset"
   ]
  },
  {
   "cell_type": "code",
   "execution_count": 20,
   "id": "c7c29f30",
   "metadata": {},
   "outputs": [
    {
     "data": {
      "text/html": [
       "<div>\n",
       "<style scoped>\n",
       "    .dataframe tbody tr th:only-of-type {\n",
       "        vertical-align: middle;\n",
       "    }\n",
       "\n",
       "    .dataframe tbody tr th {\n",
       "        vertical-align: top;\n",
       "    }\n",
       "\n",
       "    .dataframe thead th {\n",
       "        text-align: right;\n",
       "    }\n",
       "</style>\n",
       "<table border=\"1\" class=\"dataframe\">\n",
       "  <thead>\n",
       "    <tr style=\"text-align: right;\">\n",
       "      <th></th>\n",
       "      <th>ArticleId</th>\n",
       "      <th>Text</th>\n",
       "      <th>Category</th>\n",
       "      <th>CategoryId</th>\n",
       "    </tr>\n",
       "  </thead>\n",
       "  <tbody>\n",
       "    <tr>\n",
       "      <th>0</th>\n",
       "      <td>1833</td>\n",
       "      <td>worldcom ex-boss launch defence lawyer defendi...</td>\n",
       "      <td>business</td>\n",
       "      <td>0</td>\n",
       "    </tr>\n",
       "    <tr>\n",
       "      <th>1</th>\n",
       "      <td>154</td>\n",
       "      <td>german business confidence slide german busine...</td>\n",
       "      <td>business</td>\n",
       "      <td>0</td>\n",
       "    </tr>\n",
       "    <tr>\n",
       "      <th>2</th>\n",
       "      <td>1101</td>\n",
       "      <td>bbc poll indicates economic gloom citizen majo...</td>\n",
       "      <td>business</td>\n",
       "      <td>0</td>\n",
       "    </tr>\n",
       "    <tr>\n",
       "      <th>3</th>\n",
       "      <td>1976</td>\n",
       "      <td>lifestyle governs mobile choice faster better ...</td>\n",
       "      <td>tech</td>\n",
       "      <td>1</td>\n",
       "    </tr>\n",
       "    <tr>\n",
       "      <th>4</th>\n",
       "      <td>917</td>\n",
       "      <td>enron boss $ 168m payout eighteen former enron...</td>\n",
       "      <td>business</td>\n",
       "      <td>0</td>\n",
       "    </tr>\n",
       "    <tr>\n",
       "      <th>...</th>\n",
       "      <td>...</td>\n",
       "      <td>...</td>\n",
       "      <td>...</td>\n",
       "      <td>...</td>\n",
       "    </tr>\n",
       "    <tr>\n",
       "      <th>1485</th>\n",
       "      <td>857</td>\n",
       "      <td>double eviction big brother model caprice holb...</td>\n",
       "      <td>entertainment</td>\n",
       "      <td>4</td>\n",
       "    </tr>\n",
       "    <tr>\n",
       "      <th>1486</th>\n",
       "      <td>325</td>\n",
       "      <td>dj double act revamp chart show dj duo jk joel...</td>\n",
       "      <td>entertainment</td>\n",
       "      <td>4</td>\n",
       "    </tr>\n",
       "    <tr>\n",
       "      <th>1487</th>\n",
       "      <td>1590</td>\n",
       "      <td>weak dollar hit reuters revenue medium group r...</td>\n",
       "      <td>business</td>\n",
       "      <td>0</td>\n",
       "    </tr>\n",
       "    <tr>\n",
       "      <th>1488</th>\n",
       "      <td>1587</td>\n",
       "      <td>apple ipod family expands market apple expande...</td>\n",
       "      <td>tech</td>\n",
       "      <td>1</td>\n",
       "    </tr>\n",
       "    <tr>\n",
       "      <th>1489</th>\n",
       "      <td>538</td>\n",
       "      <td>santy worm make unwelcome visit thousand websi...</td>\n",
       "      <td>tech</td>\n",
       "      <td>1</td>\n",
       "    </tr>\n",
       "  </tbody>\n",
       "</table>\n",
       "<p>1490 rows × 4 columns</p>\n",
       "</div>"
      ],
      "text/plain": [
       "      ArticleId                                               Text  \\\n",
       "0          1833  worldcom ex-boss launch defence lawyer defendi...   \n",
       "1           154  german business confidence slide german busine...   \n",
       "2          1101  bbc poll indicates economic gloom citizen majo...   \n",
       "3          1976  lifestyle governs mobile choice faster better ...   \n",
       "4           917  enron boss $ 168m payout eighteen former enron...   \n",
       "...         ...                                                ...   \n",
       "1485        857  double eviction big brother model caprice holb...   \n",
       "1486        325  dj double act revamp chart show dj duo jk joel...   \n",
       "1487       1590  weak dollar hit reuters revenue medium group r...   \n",
       "1488       1587  apple ipod family expands market apple expande...   \n",
       "1489        538  santy worm make unwelcome visit thousand websi...   \n",
       "\n",
       "           Category  CategoryId  \n",
       "0          business           0  \n",
       "1          business           0  \n",
       "2          business           0  \n",
       "3              tech           1  \n",
       "4          business           0  \n",
       "...             ...         ...  \n",
       "1485  entertainment           4  \n",
       "1486  entertainment           4  \n",
       "1487       business           0  \n",
       "1488           tech           1  \n",
       "1489           tech           1  \n",
       "\n",
       "[1490 rows x 4 columns]"
      ]
     },
     "execution_count": 20,
     "metadata": {},
     "output_type": "execute_result"
    }
   ],
   "source": [
    "def lemmatize_word(text):\n",
    "  wordnet = WordNetLemmatizer()\n",
    "  return \" \".join([wordnet.lemmatize(word) for word in text])\n",
    "dataset['Text'] = dataset['Text'].apply(lemmatize_word)\n",
    "dataset"
   ]
  },
  {
   "cell_type": "code",
   "execution_count": 21,
   "id": "9d53b71f",
   "metadata": {},
   "outputs": [
    {
     "name": "stdout",
     "output_type": "stream",
     "text": [
      "      ArticleId                                               Text  \\\n",
      "0          1833  worldcom ex-boss launch defence lawyer defendi...   \n",
      "1           154  german business confidence slide german busine...   \n",
      "2          1101  bbc poll indicates economic gloom citizen majo...   \n",
      "3          1976  lifestyle governs mobile choice faster better ...   \n",
      "4           917  enron boss $ 168m payout eighteen former enron...   \n",
      "...         ...                                                ...   \n",
      "1485        857  double eviction big brother model caprice holb...   \n",
      "1486        325  dj double act revamp chart show dj duo jk joel...   \n",
      "1487       1590  weak dollar hit reuters revenue medium group r...   \n",
      "1488       1587  apple ipod family expands market apple expande...   \n",
      "1489        538  santy worm make unwelcome visit thousand websi...   \n",
      "\n",
      "           Category  CategoryId  \n",
      "0          business           0  \n",
      "1          business           0  \n",
      "2          business           0  \n",
      "3              tech           1  \n",
      "4          business           0  \n",
      "...             ...         ...  \n",
      "1485  entertainment           4  \n",
      "1486  entertainment           4  \n",
      "1487       business           0  \n",
      "1488           tech           1  \n",
      "1489           tech           1  \n",
      "\n",
      "[1490 rows x 4 columns]\n"
     ]
    }
   ],
   "source": [
    "print(dataset)"
   ]
  },
  {
   "cell_type": "code",
   "execution_count": 22,
   "id": "62cf0c4c",
   "metadata": {},
   "outputs": [
    {
     "data": {
      "text/plain": [
       "str"
      ]
     },
     "execution_count": 22,
     "metadata": {},
     "output_type": "execute_result"
    }
   ],
   "source": [
    "x = dataset['Text']\n",
    "y = dataset['CategoryId']\n",
    "type(x[0])"
   ]
  },
  {
   "cell_type": "code",
   "execution_count": 53,
   "id": "409cf533",
   "metadata": {},
   "outputs": [
    {
     "name": "stdout",
     "output_type": "stream",
     "text": [
      "<class 'pandas.core.series.Series'>\n",
      "X.shape =  (1490, 5000)\n",
      "y.shape =  (1490,)\n"
     ]
    }
   ],
   "source": [
    "from sklearn.feature_extraction.text import CountVectorizer\n",
    "x = np.array(dataset.iloc[:,0].values)\n",
    "y = np.array(dataset.CategoryId.values)\n",
    "cv = CountVectorizer(max_features = 5000)\n",
    "x = cv.fit_transform(dataset.Text).toarray()\n",
    "print(type(dataset.Text))\n",
    "print(\"X.shape = \",x.shape)\n",
    "print(\"y.shape = \",y.shape)"
   ]
  },
  {
   "cell_type": "code",
   "execution_count": 25,
   "id": "65155375",
   "metadata": {},
   "outputs": [
    {
     "data": {
      "text/plain": [
       "str"
      ]
     },
     "execution_count": 25,
     "metadata": {},
     "output_type": "execute_result"
    }
   ],
   "source": [
    "def change_text(text):\n",
    "    text = remove_tags(text)\n",
    "    text = convert_lower(text)\n",
    "    text = remove_stopwords(text)\n",
    "    text = lemmatize_word(text)\n",
    "    return text\n",
    "\n",
    "text_out = change_text('covid 19')\n",
    "type(text_out)"
   ]
  },
  {
   "cell_type": "code",
   "execution_count": 26,
   "id": "d3f88b12",
   "metadata": {},
   "outputs": [
    {
     "name": "stdout",
     "output_type": "stream",
     "text": [
      "1043\n",
      "447\n"
     ]
    }
   ],
   "source": [
    "from sklearn.model_selection import train_test_split\n",
    "x_train, x_test, y_train, y_test = train_test_split(x, y, test_size = 0.3, random_state = 0, shuffle = True)\n",
    "print(len(x_train))\n",
    "print(len(x_test))"
   ]
  },
  {
   "cell_type": "code",
   "execution_count": 28,
   "id": "756771f0",
   "metadata": {},
   "outputs": [
    {
     "name": "stdout",
     "output_type": "stream",
     "text": [
      "Test Accuracy Score of Basic Random Forest 96.2\n",
      "Precision : 0.9619686800894854\n",
      "Recall : 0.9619686800894854\n",
      "F1-score : 0.9619686800894854\n"
     ]
    }
   ],
   "source": [
    "classifier =RandomForestClassifier()\n",
    "classifier.fit(x_train,y_train)\n",
    "y_pred = classifier.predict(x_test)\n",
    "# Performance metrics\n",
    "\n",
    "accuracy = round(accuracy_score(y_test, y_pred) * 100, 2)\n",
    "\n",
    "# Get precision, recall, f1 scores\n",
    "\n",
    "precision, recall, f1score, support = score(y_test, y_pred, average='micro')\n",
    "\n",
    "print(f'Test Accuracy Score of Basic Random Forest {accuracy}')\n",
    "\n",
    "print(f'Precision : {precision}')\n",
    "\n",
    "print(f'Recall : {recall}')\n",
    "\n",
    "print(f'F1-score : {f1score}')\n",
    "\n"
   ]
  },
  {
   "cell_type": "code",
   "execution_count": 34,
   "id": "fd79a01b",
   "metadata": {},
   "outputs": [
    {
     "data": {
      "text/plain": [
       "MultinomialNB()"
      ]
     },
     "execution_count": 34,
     "metadata": {},
     "output_type": "execute_result"
    }
   ],
   "source": [
    "#from sklearn.naive_bayes import MultinomialNB\n",
    "#model = MultinomialNB()\n",
    "#model.fit(x_train,y_train)"
   ]
  },
  {
   "cell_type": "code",
   "execution_count": 80,
   "id": "bb09bc5f",
   "metadata": {},
   "outputs": [
    {
     "name": "stdout",
     "output_type": "stream",
     "text": [
      "Enter a Text: South Africa's flood-ravaged east was hit by more rain Saturday after the deadliest storm to strike the country in living memory killed nearly 400 people and left tens of thousands homeless. Floodwaters engulfed parts of the southeastern coastal city of Durban this week ripping apart roads, destroying hospitals and sweeping away homes and those trapped inside. Emergency services in the southeastern KwaZulu-Natal (KZN) province, where Durban is located off the Indian Ocean coast, were on high alert. Recovery operations and humanitarian relief were underway in the city of 3.5 million which would normally have been teeming with Easter holidaymakers this weekend. \"Sadly there are still bodies being recovered from homesteads, especially from the rural areas,\" Shawn Herbst of the first responder company Netcare 911 told AFP. \"There is still damage taking place, especially with the rain we are experiencing today.\" The death toll rose on Saturday by three, to 398 while 27 people were reported still missing, said government in a statement. This weekend's rainfall will not be \"as hectic as it was in the past few days\", Puseletso Mofokeng, senior forecaster at the South Africa Weather Service, said. But with the \"soil being over-saturated with water, we can still get a lot of flooding\".\n",
      "[0]\n"
     ]
    }
   ],
   "source": [
    "#y_pred1 = cv.transform(['Worldwide oil prices at an all time high due to covid'])\n",
    "user = input(\"Enter a Text:\")\n",
    "my_prediction = change_text(user)\n",
    "my_prediction = pd.Series(my_prediction)\n",
    "\n",
    "#my_prediction = my_prediction.ravel()\n",
    "new = cv.transform(my_prediction)\n",
    "\n",
    "yy = classifier.predict(new)\n",
    "print(yy)\n"
   ]
  },
  {
   "cell_type": "code",
   "execution_count": 81,
   "id": "fb1a2333",
   "metadata": {},
   "outputs": [
    {
     "name": "stdout",
     "output_type": "stream",
     "text": [
      "Business News\n"
     ]
    }
   ],
   "source": [
    "result = \"\"\n",
    "if yy == [0]:\n",
    "  result = \"Business News\"\n",
    "elif yy == [1]:\n",
    "  result = \"Tech News\"\n",
    "elif yy == [2]:\n",
    "  result = \"Politics News\"\n",
    "elif yy == [3]:\n",
    "  result = \"Sports News\"\n",
    "elif yy == [4]:\n",
    "  result = \"Entertainment News\"\n",
    "print(result)"
   ]
  },
  {
   "cell_type": "code",
   "execution_count": null,
   "id": "74a65558",
   "metadata": {},
   "outputs": [],
   "source": []
  },
  {
   "cell_type": "code",
   "execution_count": null,
   "id": "2bafe304",
   "metadata": {},
   "outputs": [],
   "source": []
  }
 ],
 "metadata": {
  "kernelspec": {
   "display_name": "Python 3 (ipykernel)",
   "language": "python",
   "name": "python3"
  },
  "language_info": {
   "codemirror_mode": {
    "name": "ipython",
    "version": 3
   },
   "file_extension": ".py",
   "mimetype": "text/x-python",
   "name": "python",
   "nbconvert_exporter": "python",
   "pygments_lexer": "ipython3",
   "version": "3.9.7"
  }
 },
 "nbformat": 4,
 "nbformat_minor": 5
}
